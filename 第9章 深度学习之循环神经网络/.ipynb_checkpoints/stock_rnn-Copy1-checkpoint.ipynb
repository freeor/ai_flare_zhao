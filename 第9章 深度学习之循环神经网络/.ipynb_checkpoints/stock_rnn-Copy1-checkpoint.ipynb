{
 "cells": [
  {
   "cell_type": "markdown",
   "metadata": {},
   "source": [
    "![open.svg](images/open.png)"
   ]
  },
  {
   "cell_type": "markdown",
   "metadata": {},
   "source": [
    "# MLP实现股价预测"
   ]
  },
  {
   "cell_type": "markdown",
   "metadata": {},
   "source": [
    "## 逻辑回归模型"
   ]
  },
  {
   "cell_type": "markdown",
   "metadata": {},
   "source": [
    "用于解决分类问题的一种模型。根据数据特征或属性，计算其归属于某一类别的概率P(x)，根据概率数值判断其所属类别。\n",
    "- 主要应用场景：二分类问题"
   ]
  },
  {
   "cell_type": "markdown",
   "metadata": {},
   "source": [
    "### 逻辑回归数学表达式\n",
    "\n",
    "![logistic_regression formula](images/06_logistic_regression_formula.png)\n",
    "\n",
    "其中，y为类别结果，P为概率，x为特征值，a、b为常量"
   ]
  },
  {
   "cell_type": "markdown",
   "metadata": {},
   "source": [
    "## 模型评估回顾\n",
    "\n",
    "- 目的：通过模型评估对比模型表现、确定合适的模型参数（组）\n",
    "- 方法：计算测试数据集预测准确率以评估模型表现"
   ]
  },
  {
   "cell_type": "markdown",
   "metadata": {},
   "source": [
    "## 皮马印第安人糖尿病数据集"
   ]
  },
  {
   "cell_type": "markdown",
   "metadata": {},
   "source": [
    "基于数据集中包括的某些诊断测量来诊断性地预测患者是否患有糖尿病\n",
    "\n",
    "输入变量包括：独立变量包括患者的怀孕次数，葡萄糖量，血压，皮褶厚度，体重指数，胰岛素水平，糖尿病谱系功能，年龄\n",
    "\n",
    "输出结果：是否患有糖尿病\n",
    "\n",
    "数据来源：[Pima Indians Diabetes dataset](https://www.kaggle.com/uciml/pima-indians-diabetes-database)"
   ]
  },
  {
   "cell_type": "markdown",
   "metadata": {},
   "source": [
    "**任务:** 通过怀孕次数、胰岛素水平、体重指数、年龄四个特征预测是否患有糖尿病"
   ]
  },
  {
   "cell_type": "markdown",
   "metadata": {},
   "source": [
    "### 典型的逻辑回归概率分布曲线\n",
    "\n",
    "![unrolled_RNN](images/unrolled_RNN.png)"
   ]
  },
  {
   "cell_type": "markdown",
   "metadata": {},
   "source": [
    "### 基于t时刻及之前数据预测t+1时刻结果（滑动窗口预测）\n",
    "\n",
    "![sliding_window_time_series.svg](images/sliding_window_time_series.png)"
   ]
  },
  {
   "cell_type": "code",
   "execution_count": 1,
   "metadata": {},
   "outputs": [],
   "source": [
    "# train LSTM on five years of Google \n",
    "# Supervised Deep Learning\n",
    "%matplotlib inline\n",
    "import numpy as np\n",
    "import matplotlib.pyplot as plt\n",
    "import pandas as pd\n",
    "\n",
    "# Importing the training set\n",
    "training_set_ori = pd.read_csv(\"zgpa_2016-18.csv\")"
   ]
  },
  {
   "cell_type": "code",
   "execution_count": 2,
   "metadata": {},
   "outputs": [
    {
     "data": {
      "text/html": [
       "<div>\n",
       "<style scoped>\n",
       "    .dataframe tbody tr th:only-of-type {\n",
       "        vertical-align: middle;\n",
       "    }\n",
       "\n",
       "    .dataframe tbody tr th {\n",
       "        vertical-align: top;\n",
       "    }\n",
       "\n",
       "    .dataframe thead th {\n",
       "        text-align: right;\n",
       "    }\n",
       "</style>\n",
       "<table border=\"1\" class=\"dataframe\">\n",
       "  <thead>\n",
       "    <tr style=\"text-align: right;\">\n",
       "      <th></th>\n",
       "      <th>date</th>\n",
       "      <th>open</th>\n",
       "      <th>high</th>\n",
       "      <th>low</th>\n",
       "      <th>close</th>\n",
       "      <th>volume</th>\n",
       "    </tr>\n",
       "  </thead>\n",
       "  <tbody>\n",
       "    <tr>\n",
       "      <th>0</th>\n",
       "      <td>2016-01-04</td>\n",
       "      <td>30.57</td>\n",
       "      <td>30.57</td>\n",
       "      <td>28.63</td>\n",
       "      <td>28.78</td>\n",
       "      <td>70997200</td>\n",
       "    </tr>\n",
       "    <tr>\n",
       "      <th>1</th>\n",
       "      <td>2016-01-05</td>\n",
       "      <td>28.41</td>\n",
       "      <td>29.54</td>\n",
       "      <td>28.23</td>\n",
       "      <td>29.23</td>\n",
       "      <td>87498504</td>\n",
       "    </tr>\n",
       "    <tr>\n",
       "      <th>2</th>\n",
       "      <td>2016-01-06</td>\n",
       "      <td>29.03</td>\n",
       "      <td>29.39</td>\n",
       "      <td>28.73</td>\n",
       "      <td>29.26</td>\n",
       "      <td>48012112</td>\n",
       "    </tr>\n",
       "    <tr>\n",
       "      <th>3</th>\n",
       "      <td>2016-01-07</td>\n",
       "      <td>28.73</td>\n",
       "      <td>29.25</td>\n",
       "      <td>27.73</td>\n",
       "      <td>28.50</td>\n",
       "      <td>23647604</td>\n",
       "    </tr>\n",
       "    <tr>\n",
       "      <th>4</th>\n",
       "      <td>2016-01-08</td>\n",
       "      <td>28.73</td>\n",
       "      <td>29.18</td>\n",
       "      <td>27.63</td>\n",
       "      <td>28.67</td>\n",
       "      <td>98239664</td>\n",
       "    </tr>\n",
       "  </tbody>\n",
       "</table>\n",
       "</div>"
      ],
      "text/plain": [
       "         date   open   high    low  close    volume\n",
       "0  2016-01-04  30.57  30.57  28.63  28.78  70997200\n",
       "1  2016-01-05  28.41  29.54  28.23  29.23  87498504\n",
       "2  2016-01-06  29.03  29.39  28.73  29.26  48012112\n",
       "3  2016-01-07  28.73  29.25  27.73  28.50  23647604\n",
       "4  2016-01-08  28.73  29.18  27.63  28.67  98239664"
      ]
     },
     "execution_count": 2,
     "metadata": {},
     "output_type": "execute_result"
    }
   ],
   "source": [
    "training_set_ori.head()"
   ]
  },
  {
   "cell_type": "code",
   "execution_count": 3,
   "metadata": {},
   "outputs": [
    {
     "data": {
      "image/png": "[encoded data removed]",
      "text/plain": [
       "<Figure size 432x288 with 1 Axes>"
      ]
     },
     "metadata": {
      "needs_background": "light"
     },
     "output_type": "display_data"
    }
   ],
   "source": [
    "# visualising the results\n",
    "%matplotlib inline\n",
    "plt.plot(training_set_ori.loc[:,['open']], color = 'red', label = 'Real Stock Price')\n",
    "plt.title('Stock Price')\n",
    "plt.xlabel('Time')\n",
    "plt.ylabel('Price')\n",
    "plt.legend()\n",
    "plt.show()"
   ]
  },
  {
   "cell_type": "code",
   "execution_count": 4,
   "metadata": {},
   "outputs": [
    {
     "name": "stdout",
     "output_type": "stream",
     "text": [
      "(731, 1) <class 'numpy.ndarray'>\n"
     ]
    }
   ],
   "source": [
    "# input/ouputs of recurrent neural (input != date, stock price)\n",
    "# but stock price at time t for input, and stock price t+1 for the output\n",
    "# create a set only with the \"Open\" Google stock price, extract that column\n",
    "# two-dimensional numpy array\n",
    "training_set_ori = training_set_ori.loc[:,['open']].values\n",
    "print(training_set_ori.shape,type(training_set_ori))"
   ]
  },
  {
   "cell_type": "code",
   "execution_count": 5,
   "metadata": {},
   "outputs": [],
   "source": [
    "# Feature Scaling + Normalization, since LSTM Several Sigmoid Activation function\n",
    "# Sigmoid 0 and 1, as is the case in Normalization\n",
    "from sklearn.preprocessing import MinMaxScaler\n",
    "sc = MinMaxScaler() # default is 0,1\n",
    "# Fitting to training_set, scale training set, \n",
    "# transform we'll apply normalizationjust need min and max for normalization\n",
    "training_set = sc.fit_transform(training_set_ori)"
   ]
  },
  {
   "cell_type": "code",
   "execution_count": 6,
   "metadata": {},
   "outputs": [
    {
     "name": "stdout",
     "output_type": "stream",
     "text": [
      "(731, 1) <class 'numpy.ndarray'>\n"
     ]
    }
   ],
   "source": [
    "print(training_set.shape,type(training_set))"
   ]
  },
  {
   "cell_type": "code",
   "execution_count": 7,
   "metadata": {},
   "outputs": [
    {
     "data": {
      "image/png": "[encoded data removed]",
      "text/plain": [
       "<Figure size 432x288 with 1 Axes>"
      ]
     },
     "metadata": {
      "needs_background": "light"
     },
     "output_type": "display_data"
    }
   ],
   "source": [
    "plt.plot(training_set, color = 'red', label = 'Normalized Stock Price')\n",
    "plt.title('Normalized Stock Price')\n",
    "plt.xlabel('Time')\n",
    "plt.ylabel('Normalized Price')\n",
    "plt.legend()\n",
    "plt.show()"
   ]
  },
  {
   "cell_type": "code",
   "execution_count": 8,
   "metadata": {},
   "outputs": [],
   "source": [
    "# Getting the inputs and the outputs, y_train is output, x_train is the input\n",
    "m = training_set.shape[0]\n",
    "X_train = training_set[0:m-1]\n",
    "y_train = training_set[1:m]"
   ]
  },
  {
   "cell_type": "code",
   "execution_count": 9,
   "metadata": {},
   "outputs": [
    {
     "name": "stdout",
     "output_type": "stream",
     "text": [
      "(730, 1)\n"
     ]
    }
   ],
   "source": [
    "print(X_train.shape)"
   ]
  },
  {
   "cell_type": "code",
   "execution_count": 10,
   "metadata": {},
   "outputs": [],
   "source": [
    "# Reshaping inputs, input has a certain format (2D array, features)\n",
    "# Changing the format of X_train into a 3D array, with a timestep\n",
    "# Keras Documentation - why reshape? - 3D tensor with shape (batch_size, timesteps)\n",
    "# time steps different between output and input time, input_dim dimension of input feature\n",
    "X_train = np.reshape(X_train, (m-1, 1, 1))"
   ]
  },
  {
   "cell_type": "code",
   "execution_count": 21,
   "metadata": {},
   "outputs": [],
   "source": [
    "# Part 2 - Building the RNN\n",
    "\n",
    "# Importing the keras libs and packages\n",
    "from keras.models import Sequential\n",
    "from keras.layers import Dense\n",
    "from keras.layers import LSTM\n",
    "\n",
    "# Initialising the RNN\n",
    "# predicting a continuous outcome, regression model\n",
    "regressor = Sequential()\n",
    "\n",
    "# Adding the input layer and the LSTM layer\n",
    "regressor.add(LSTM(units = 4, activation = 'sigmoid', input_shape = (None, 1)))\n",
    "\n",
    "# Adding the output layer\n",
    "regressor.add(Dense(units = 1, activation = 'linear'))\n",
    "\n",
    "# Compiling the RNN\n",
    "# use the mean square error\n",
    "# regression won't be binary cross entropy, MSE for regression\n",
    "regressor.compile(optimizer = 'adam', loss = 'mean_squared_error')"
   ]
  },
  {
   "cell_type": "code",
   "execution_count": null,
   "metadata": {},
   "outputs": [],
   "source": [
    "from keras.layers import RNN"
   ]
  },
  {
   "cell_type": "code",
   "execution_count": 12,
   "metadata": {},
   "outputs": [
    {
     "name": "stdout",
     "output_type": "stream",
     "text": [
      "Epoch 1/200\n",
      "730/730 [==============================] - 1s 699us/step - loss: 0.1000\n",
      "Epoch 2/200\n",
      "730/730 [==============================] - 0s 64us/step - loss: 0.0952\n",
      "Epoch 3/200\n",
      "730/730 [==============================] - 0s 62us/step - loss: 0.0927\n",
      "Epoch 4/200\n",
      "730/730 [==============================] - 0s 63us/step - loss: 0.0907\n",
      "Epoch 5/200\n",
      "730/730 [==============================] - 0s 67us/step - loss: 0.0888\n",
      "Epoch 6/200\n",
      "730/730 [==============================] - 0s 65us/step - loss: 0.0870\n",
      "Epoch 7/200\n",
      "730/730 [==============================] - 0s 131us/step - loss: 0.0852\n",
      "Epoch 8/200\n",
      "730/730 [==============================] - 0s 107us/step - loss: 0.0835\n",
      "Epoch 9/200\n",
      "730/730 [==============================] - 0s 101us/step - loss: 0.0817\n",
      "Epoch 10/200\n",
      "730/730 [==============================] - 0s 120us/step - loss: 0.0799\n",
      "Epoch 11/200\n",
      "730/730 [==============================] - 0s 112us/step - loss: 0.0781\n",
      "Epoch 12/200\n",
      "730/730 [==============================] - 0s 104us/step - loss: 0.0763\n",
      "Epoch 13/200\n",
      "730/730 [==============================] - 0s 90us/step - loss: 0.0745\n",
      "Epoch 14/200\n",
      "730/730 [==============================] - 0s 93us/step - loss: 0.0728\n",
      "Epoch 15/200\n",
      "730/730 [==============================] - 0s 103us/step - loss: 0.0708\n",
      "Epoch 16/200\n",
      "730/730 [==============================] - 0s 100us/step - loss: 0.0689\n",
      "Epoch 17/200\n",
      "730/730 [==============================] - 0s 89us/step - loss: 0.0671\n",
      "Epoch 18/200\n",
      "730/730 [==============================] - 0s 71us/step - loss: 0.0652\n",
      "Epoch 19/200\n",
      "730/730 [==============================] - 0s 74us/step - loss: 0.0632\n",
      "Epoch 20/200\n",
      "730/730 [==============================] - 0s 73us/step - loss: 0.0613\n",
      "Epoch 21/200\n",
      "730/730 [==============================] - 0s 85us/step - loss: 0.0595\n",
      "Epoch 22/200\n",
      "730/730 [==============================] - 0s 71us/step - loss: 0.0574\n",
      "Epoch 23/200\n",
      "730/730 [==============================] - 0s 83us/step - loss: 0.0554\n",
      "Epoch 24/200\n",
      "730/730 [==============================] - 0s 62us/step - loss: 0.0534\n",
      "Epoch 25/200\n",
      "730/730 [==============================] - 0s 68us/step - loss: 0.0514\n",
      "Epoch 26/200\n",
      "730/730 [==============================] - 0s 65us/step - loss: 0.0494\n",
      "Epoch 27/200\n",
      "730/730 [==============================] - 0s 68us/step - loss: 0.0474\n",
      "Epoch 28/200\n",
      "730/730 [==============================] - 0s 80us/step - loss: 0.0453\n",
      "Epoch 29/200\n",
      "730/730 [==============================] - 0s 55us/step - loss: 0.0432\n",
      "Epoch 30/200\n",
      "730/730 [==============================] - 0s 203us/step - loss: 0.0412 0s - loss: 0.040\n",
      "Epoch 31/200\n",
      "730/730 [==============================] - 0s 121us/step - loss: 0.0392\n",
      "Epoch 32/200\n",
      "730/730 [==============================] - 0s 99us/step - loss: 0.0373\n",
      "Epoch 33/200\n",
      "730/730 [==============================] - 0s 93us/step - loss: 0.0353\n",
      "Epoch 34/200\n",
      "730/730 [==============================] - 0s 94us/step - loss: 0.0334\n",
      "Epoch 35/200\n",
      "730/730 [==============================] - 0s 57us/step - loss: 0.0315\n",
      "Epoch 36/200\n",
      "730/730 [==============================] - 0s 82us/step - loss: 0.0296\n",
      "Epoch 37/200\n",
      "730/730 [==============================] - 0s 88us/step - loss: 0.0278\n",
      "Epoch 38/200\n",
      "730/730 [==============================] - 0s 78us/step - loss: 0.0260\n",
      "Epoch 39/200\n",
      "730/730 [==============================] - 0s 85us/step - loss: 0.0243\n",
      "Epoch 40/200\n",
      "730/730 [==============================] - ETA: 0s - loss: 0.022 - 0s 88us/step - loss: 0.0226\n",
      "Epoch 41/200\n",
      "730/730 [==============================] - 0s 81us/step - loss: 0.0210\n",
      "Epoch 42/200\n",
      "730/730 [==============================] - 0s 81us/step - loss: 0.0194\n",
      "Epoch 43/200\n",
      "730/730 [==============================] - 0s 73us/step - loss: 0.0179\n",
      "Epoch 44/200\n",
      "730/730 [==============================] - 0s 74us/step - loss: 0.0165\n",
      "Epoch 45/200\n",
      "730/730 [==============================] - 0s 77us/step - loss: 0.0152\n",
      "Epoch 46/200\n",
      "730/730 [==============================] - 0s 70us/step - loss: 0.0139\n",
      "Epoch 47/200\n",
      "730/730 [==============================] - 0s 67us/step - loss: 0.0127\n",
      "Epoch 48/200\n",
      "730/730 [==============================] - 0s 75us/step - loss: 0.0115\n",
      "Epoch 49/200\n",
      "730/730 [==============================] - 0s 74us/step - loss: 0.0104\n",
      "Epoch 50/200\n",
      "730/730 [==============================] - 0s 74us/step - loss: 0.0094\n",
      "Epoch 51/200\n",
      "730/730 [==============================] - 0s 71us/step - loss: 0.0085\n",
      "Epoch 52/200\n",
      "730/730 [==============================] - 0s 67us/step - loss: 0.0077\n",
      "Epoch 53/200\n",
      "730/730 [==============================] - 0s 67us/step - loss: 0.0069\n",
      "Epoch 54/200\n",
      "730/730 [==============================] - 0s 66us/step - loss: 0.0062\n",
      "Epoch 55/200\n",
      "730/730 [==============================] - 0s 68us/step - loss: 0.0055\n",
      "Epoch 56/200\n",
      "730/730 [==============================] - 0s 68us/step - loss: 0.0049\n",
      "Epoch 57/200\n",
      "730/730 [==============================] - 0s 70us/step - loss: 0.0043\n",
      "Epoch 58/200\n",
      "730/730 [==============================] - 0s 64us/step - loss: 0.0038\n",
      "Epoch 59/200\n",
      "730/730 [==============================] - 0s 66us/step - loss: 0.0034\n",
      "Epoch 60/200\n",
      "730/730 [==============================] - 0s 79us/step - loss: 0.0030\n",
      "Epoch 61/200\n",
      "730/730 [==============================] - 0s 73us/step - loss: 0.0026\n",
      "Epoch 62/200\n",
      "730/730 [==============================] - 0s 75us/step - loss: 0.0023\n",
      "Epoch 63/200\n",
      "730/730 [==============================] - 0s 73us/step - loss: 0.0020\n",
      "Epoch 64/200\n",
      "730/730 [==============================] - 0s 66us/step - loss: 0.0018\n",
      "Epoch 65/200\n",
      "730/730 [==============================] - 0s 63us/step - loss: 0.0016\n",
      "Epoch 66/200\n",
      "730/730 [==============================] - 0s 64us/step - loss: 0.0014\n",
      "Epoch 67/200\n",
      "730/730 [==============================] - 0s 63us/step - loss: 0.0012\n",
      "Epoch 68/200\n",
      "730/730 [==============================] - 0s 64us/step - loss: 0.0011\n",
      "Epoch 69/200\n",
      "730/730 [==============================] - 0s 64us/step - loss: 9.8401e-04\n",
      "Epoch 70/200\n",
      "730/730 [==============================] - 0s 52us/step - loss: 8.8138e-04\n",
      "Epoch 71/200\n",
      "730/730 [==============================] - 0s 80us/step - loss: 7.9698e-04\n",
      "Epoch 72/200\n",
      "730/730 [==============================] - 0s 62us/step - loss: 7.2491e-04\n",
      "Epoch 73/200\n",
      "730/730 [==============================] - 0s 63us/step - loss: 6.6575e-04\n",
      "Epoch 74/200\n",
      "730/730 [==============================] - 0s 64us/step - loss: 6.1007e-04\n",
      "Epoch 75/200\n",
      "730/730 [==============================] - 0s 63us/step - loss: 5.6745e-04\n",
      "Epoch 76/200\n",
      "730/730 [==============================] - 0s 68us/step - loss: 5.3286e-04\n",
      "Epoch 77/200\n",
      "730/730 [==============================] - 0s 67us/step - loss: 5.0283e-04\n",
      "Epoch 78/200\n",
      "730/730 [==============================] - 0s 62us/step - loss: 4.7805e-04\n",
      "Epoch 79/200\n",
      "730/730 [==============================] - 0s 67us/step - loss: 4.5637e-04\n",
      "Epoch 80/200\n",
      "730/730 [==============================] - 0s 77us/step - loss: 4.3876e-04\n",
      "Epoch 81/200\n",
      "730/730 [==============================] - 0s 56us/step - loss: 4.2618e-04\n",
      "Epoch 82/200\n",
      "730/730 [==============================] - 0s 67us/step - loss: 4.1501e-04\n",
      "Epoch 83/200\n",
      "730/730 [==============================] - 0s 62us/step - loss: 4.0595e-04\n",
      "Epoch 84/200\n",
      "730/730 [==============================] - 0s 68us/step - loss: 3.9981e-04\n",
      "Epoch 85/200\n",
      "730/730 [==============================] - 0s 75us/step - loss: 3.9309e-04\n",
      "Epoch 86/200\n",
      "730/730 [==============================] - 0s 75us/step - loss: 3.8857e-04\n",
      "Epoch 87/200\n",
      "730/730 [==============================] - 0s 82us/step - loss: 3.8588e-04\n",
      "Epoch 88/200\n",
      "730/730 [==============================] - 0s 69us/step - loss: 3.8324e-04\n",
      "Epoch 89/200\n",
      "730/730 [==============================] - 0s 54us/step - loss: 3.8087e-04\n",
      "Epoch 90/200\n",
      "730/730 [==============================] - 0s 79us/step - loss: 3.7795e-04\n",
      "Epoch 91/200\n",
      "730/730 [==============================] - 0s 55us/step - loss: 3.7723e-04\n",
      "Epoch 92/200\n",
      "730/730 [==============================] - 0s 75us/step - loss: 3.7717e-04\n",
      "Epoch 93/200\n",
      "730/730 [==============================] - 0s 60us/step - loss: 3.7450e-04\n",
      "Epoch 94/200\n",
      "730/730 [==============================] - 0s 68us/step - loss: 3.7389e-04\n",
      "Epoch 95/200\n",
      "730/730 [==============================] - 0s 65us/step - loss: 3.7353e-04\n",
      "Epoch 96/200\n"
     ]
    },
    {
     "name": "stdout",
     "output_type": "stream",
     "text": [
      "730/730 [==============================] - 0s 64us/step - loss: 3.7328e-04\n",
      "Epoch 97/200\n",
      "730/730 [==============================] - 0s 63us/step - loss: 3.7277e-04\n",
      "Epoch 98/200\n",
      "730/730 [==============================] - 0s 51us/step - loss: 3.7273e-04\n",
      "Epoch 99/200\n",
      "730/730 [==============================] - 0s 68us/step - loss: 3.7313e-04\n",
      "Epoch 100/200\n",
      "730/730 [==============================] - 0s 64us/step - loss: 3.7254e-04\n",
      "Epoch 101/200\n",
      "730/730 [==============================] - 0s 66us/step - loss: 3.7188e-04\n",
      "Epoch 102/200\n",
      "730/730 [==============================] - 0s 64us/step - loss: 3.7268e-04\n",
      "Epoch 103/200\n",
      "730/730 [==============================] - 0s 66us/step - loss: 3.7451e-04\n",
      "Epoch 104/200\n",
      "730/730 [==============================] - 0s 64us/step - loss: 3.7216e-04\n",
      "Epoch 105/200\n",
      "730/730 [==============================] - 0s 63us/step - loss: 3.7309e-04\n",
      "Epoch 106/200\n",
      "730/730 [==============================] - 0s 63us/step - loss: 3.7147e-04\n",
      "Epoch 107/200\n",
      "730/730 [==============================] - 0s 84us/step - loss: 3.7165e-04\n",
      "Epoch 108/200\n",
      "730/730 [==============================] - 0s 63us/step - loss: 3.7227e-04\n",
      "Epoch 109/200\n",
      "730/730 [==============================] - 0s 63us/step - loss: 3.7360e-04\n",
      "Epoch 110/200\n",
      "730/730 [==============================] - 0s 64us/step - loss: 3.7209e-04\n",
      "Epoch 111/200\n",
      "730/730 [==============================] - 0s 64us/step - loss: 3.7354e-04\n",
      "Epoch 112/200\n",
      "730/730 [==============================] - 0s 63us/step - loss: 3.7254e-04\n",
      "Epoch 113/200\n",
      "730/730 [==============================] - 0s 68us/step - loss: 3.7328e-04\n",
      "Epoch 114/200\n",
      "730/730 [==============================] - 0s 75us/step - loss: 3.7332e-04\n",
      "Epoch 115/200\n",
      "730/730 [==============================] - 0s 73us/step - loss: 3.7234e-04\n",
      "Epoch 116/200\n",
      "730/730 [==============================] - 0s 79us/step - loss: 3.7252e-04\n",
      "Epoch 117/200\n",
      "730/730 [==============================] - 0s 70us/step - loss: 3.7280e-04\n",
      "Epoch 118/200\n",
      "730/730 [==============================] - 0s 82us/step - loss: 3.7452e-04\n",
      "Epoch 119/200\n",
      "730/730 [==============================] - 0s 90us/step - loss: 3.7239e-04: 0s - loss: 3.7334e-0\n",
      "Epoch 120/200\n",
      "730/730 [==============================] - 0s 85us/step - loss: 3.7262e-04\n",
      "Epoch 121/200\n",
      "730/730 [==============================] - 0s 90us/step - loss: 3.7242e-04\n",
      "Epoch 122/200\n",
      "730/730 [==============================] - 0s 89us/step - loss: 3.7191e-04\n",
      "Epoch 123/200\n",
      "730/730 [==============================] - 0s 89us/step - loss: 3.7389e-04\n",
      "Epoch 124/200\n",
      "730/730 [==============================] - 0s 75us/step - loss: 3.7356e-04\n",
      "Epoch 125/200\n",
      "730/730 [==============================] - 0s 77us/step - loss: 3.7361e-04\n",
      "Epoch 126/200\n",
      "730/730 [==============================] - 0s 71us/step - loss: 3.7521e-04\n",
      "Epoch 127/200\n",
      "730/730 [==============================] - 0s 73us/step - loss: 3.7327e-04\n",
      "Epoch 128/200\n",
      "730/730 [==============================] - 0s 73us/step - loss: 3.7298e-04\n",
      "Epoch 129/200\n",
      "730/730 [==============================] - 0s 74us/step - loss: 3.7185e-04\n",
      "Epoch 130/200\n",
      "730/730 [==============================] - 0s 77us/step - loss: 3.7282e-04\n",
      "Epoch 131/200\n",
      "730/730 [==============================] - 0s 81us/step - loss: 3.7163e-04\n",
      "Epoch 132/200\n",
      "730/730 [==============================] - 0s 85us/step - loss: 3.7180e-04\n",
      "Epoch 133/200\n",
      "730/730 [==============================] - 0s 81us/step - loss: 3.7352e-04\n",
      "Epoch 134/200\n",
      "730/730 [==============================] - 0s 54us/step - loss: 3.7172e-04\n",
      "Epoch 135/200\n",
      "730/730 [==============================] - 0s 106us/step - loss: 3.7707e-04\n",
      "Epoch 136/200\n",
      "730/730 [==============================] - 0s 74us/step - loss: 3.7306e-04\n",
      "Epoch 137/200\n",
      "730/730 [==============================] - 0s 70us/step - loss: 3.7299e-04\n",
      "Epoch 138/200\n",
      "730/730 [==============================] - 0s 71us/step - loss: 3.7195e-04\n",
      "Epoch 139/200\n",
      "730/730 [==============================] - 0s 79us/step - loss: 3.7221e-04\n",
      "Epoch 140/200\n",
      "730/730 [==============================] - 0s 74us/step - loss: 3.7240e-04\n",
      "Epoch 141/200\n",
      "730/730 [==============================] - 0s 74us/step - loss: 3.7306e-04\n",
      "Epoch 142/200\n",
      "730/730 [==============================] - 0s 78us/step - loss: 3.7274e-04\n",
      "Epoch 143/200\n",
      "730/730 [==============================] - ETA: 0s - loss: 3.7028e-0 - 0s 82us/step - loss: 3.7170e-04\n",
      "Epoch 144/200\n",
      "730/730 [==============================] - 0s 73us/step - loss: 3.7230e-04\n",
      "Epoch 145/200\n",
      "730/730 [==============================] - 0s 71us/step - loss: 3.7450e-04\n",
      "Epoch 146/200\n",
      "730/730 [==============================] - 0s 74us/step - loss: 3.7146e-04\n",
      "Epoch 147/200\n",
      "730/730 [==============================] - 0s 78us/step - loss: 3.7204e-04\n",
      "Epoch 148/200\n",
      "730/730 [==============================] - 0s 70us/step - loss: 3.7200e-04\n",
      "Epoch 149/200\n",
      "730/730 [==============================] - 0s 90us/step - loss: 3.7388e-04\n",
      "Epoch 150/200\n",
      "730/730 [==============================] - 0s 90us/step - loss: 3.7263e-04\n",
      "Epoch 151/200\n",
      "730/730 [==============================] - 0s 89us/step - loss: 3.7363e-04\n",
      "Epoch 152/200\n",
      "730/730 [==============================] - 0s 89us/step - loss: 3.7280e-04\n",
      "Epoch 153/200\n",
      "730/730 [==============================] - 0s 93us/step - loss: 3.7169e-04\n",
      "Epoch 154/200\n",
      "730/730 [==============================] - 0s 105us/step - loss: 3.7201e-04\n",
      "Epoch 155/200\n",
      "730/730 [==============================] - 0s 74us/step - loss: 3.7285e-04\n",
      "Epoch 156/200\n",
      "730/730 [==============================] - 0s 70us/step - loss: 3.7316e-04\n",
      "Epoch 157/200\n",
      "730/730 [==============================] - 0s 70us/step - loss: 3.7226e-04\n",
      "Epoch 158/200\n",
      "730/730 [==============================] - 0s 74us/step - loss: 3.7612e-04\n",
      "Epoch 159/200\n",
      "730/730 [==============================] - 0s 73us/step - loss: 3.7460e-04\n",
      "Epoch 160/200\n",
      "730/730 [==============================] - 0s 81us/step - loss: 3.7506e-04\n",
      "Epoch 161/200\n",
      "730/730 [==============================] - 0s 72us/step - loss: 3.7201e-04\n",
      "Epoch 162/200\n",
      "730/730 [==============================] - 0s 79us/step - loss: 3.7137e-04\n",
      "Epoch 163/200\n",
      "730/730 [==============================] - 0s 70us/step - loss: 3.7600e-04\n",
      "Epoch 164/200\n",
      "730/730 [==============================] - 0s 82us/step - loss: 3.7500e-04\n",
      "Epoch 165/200\n",
      "730/730 [==============================] - 0s 65us/step - loss: 3.7256e-04\n",
      "Epoch 166/200\n",
      "730/730 [==============================] - 0s 87us/step - loss: 3.7260e-04\n",
      "Epoch 167/200\n",
      "730/730 [==============================] - 0s 69us/step - loss: 3.7716e-04\n",
      "Epoch 168/200\n",
      "730/730 [==============================] - 0s 70us/step - loss: 3.7166e-04\n",
      "Epoch 169/200\n",
      "730/730 [==============================] - 0s 63us/step - loss: 3.7204e-04\n",
      "Epoch 170/200\n",
      "730/730 [==============================] - 0s 63us/step - loss: 3.7212e-04\n",
      "Epoch 171/200\n",
      "730/730 [==============================] - 0s 68us/step - loss: 3.7231e-04\n",
      "Epoch 172/200\n",
      "730/730 [==============================] - 0s 66us/step - loss: 3.7740e-04\n",
      "Epoch 173/200\n",
      "730/730 [==============================] - 0s 64us/step - loss: 3.8017e-04\n",
      "Epoch 174/200\n",
      "730/730 [==============================] - 0s 67us/step - loss: 3.7169e-04\n",
      "Epoch 175/200\n",
      "730/730 [==============================] - 0s 64us/step - loss: 3.7578e-04\n",
      "Epoch 176/200\n",
      "730/730 [==============================] - 0s 66us/step - loss: 3.7525e-04\n",
      "Epoch 177/200\n",
      "730/730 [==============================] - 0s 64us/step - loss: 3.7696e-04\n",
      "Epoch 178/200\n",
      "730/730 [==============================] - 0s 55us/step - loss: 3.7180e-04\n",
      "Epoch 179/200\n",
      "730/730 [==============================] - 0s 75us/step - loss: 3.7193e-04\n",
      "Epoch 180/200\n",
      "730/730 [==============================] - 0s 62us/step - loss: 3.7118e-04\n",
      "Epoch 181/200\n",
      "730/730 [==============================] - 0s 64us/step - loss: 3.7290e-04\n",
      "Epoch 182/200\n",
      "730/730 [==============================] - 0s 70us/step - loss: 3.7371e-04\n",
      "Epoch 183/200\n",
      "730/730 [==============================] - 0s 68us/step - loss: 3.7204e-04\n",
      "Epoch 184/200\n",
      "730/730 [==============================] - 0s 70us/step - loss: 3.7600e-04\n",
      "Epoch 185/200\n",
      "730/730 [==============================] - 0s 68us/step - loss: 3.8045e-04\n",
      "Epoch 186/200\n",
      "730/730 [==============================] - 0s 71us/step - loss: 3.7529e-04\n",
      "Epoch 187/200\n"
     ]
    },
    {
     "name": "stdout",
     "output_type": "stream",
     "text": [
      "730/730 [==============================] - 0s 67us/step - loss: 3.7241e-04\n",
      "Epoch 188/200\n",
      "730/730 [==============================] - 0s 69us/step - loss: 3.7395e-04\n",
      "Epoch 189/200\n",
      "730/730 [==============================] - 0s 72us/step - loss: 3.7198e-04\n",
      "Epoch 190/200\n",
      "730/730 [==============================] - 0s 74us/step - loss: 3.7161e-04\n",
      "Epoch 191/200\n",
      "730/730 [==============================] - 0s 74us/step - loss: 3.7601e-04\n",
      "Epoch 192/200\n",
      "730/730 [==============================] - 0s 72us/step - loss: 3.7341e-04\n",
      "Epoch 193/200\n",
      "730/730 [==============================] - 0s 69us/step - loss: 3.7318e-04\n",
      "Epoch 194/200\n",
      "730/730 [==============================] - 0s 68us/step - loss: 3.7185e-04\n",
      "Epoch 195/200\n",
      "730/730 [==============================] - 0s 67us/step - loss: 3.7323e-04\n",
      "Epoch 196/200\n",
      "730/730 [==============================] - 0s 70us/step - loss: 3.7219e-04\n",
      "Epoch 197/200\n",
      "730/730 [==============================] - 0s 68us/step - loss: 3.8251e-04\n",
      "Epoch 198/200\n",
      "730/730 [==============================] - 0s 68us/step - loss: 3.7292e-04\n",
      "Epoch 199/200\n",
      "730/730 [==============================] - 0s 67us/step - loss: 3.7347e-04\n",
      "Epoch 200/200\n",
      "730/730 [==============================] - 0s 64us/step - loss: 3.7344e-04\n"
     ]
    },
    {
     "data": {
      "text/plain": [
       "<keras.callbacks.callbacks.History at 0x2aa887cacf8>"
      ]
     },
     "execution_count": 12,
     "metadata": {},
     "output_type": "execute_result"
    }
   ],
   "source": [
    "# Fitting the RNN to the Trainign set\n",
    "regressor.fit(X_train, y_train, batch_size = 32, epochs = 200)"
   ]
  },
  {
   "cell_type": "code",
   "execution_count": 18,
   "metadata": {},
   "outputs": [
    {
     "name": "stdout",
     "output_type": "stream",
     "text": [
      "(730, 1)\n"
     ]
    },
    {
     "data": {
      "image/png": "[encoded data removed]",
      "text/plain": [
       "<Figure size 720x360 with 1 Axes>"
      ]
     },
     "metadata": {
      "needs_background": "light"
     },
     "output_type": "display_data"
    }
   ],
   "source": [
    "# coding:utf-8\n",
    "import matplotlib as mlp\n",
    "font2 = {'family' : 'SimHei',\n",
    "'weight' : 'normal',\n",
    "'size'   : 20,\n",
    "}\n",
    "mlp.rcParams['font.family'] = 'SimHei'\n",
    "mlp.rcParams['axes.unicode_minus'] = False\n",
    "# Part 3 - Making the predictions and visualising the results based on the training data\n",
    "\n",
    "# Get the real stock price 2016 - 2018\n",
    "# Importing the training set\n",
    "real_stock_price = pd.read_csv(\"zgpa_2016-18.csv\")\n",
    "real_stock_price_train = real_stock_price.iloc[:,1:2].values\n",
    "# Getting the predicted stock price of 2016 - 2018\n",
    "predicted_stock_price_train = regressor.predict(X_train)\n",
    "print(predicted_stock_price_train.shape)\n",
    "predicted_stock_price_train = sc.inverse_transform(predicted_stock_price_train)\n",
    "# visualising the results\n",
    "fig = plt.figure(figsize=(10,5))\n",
    "plt.plot(real_stock_price_train[1:m], color = 'red', label = '实际价格')\n",
    "plt.plot(predicted_stock_price_train, color = 'blue', label = '预测价格')\n",
    "plt.title('中国平安股票价格预测(训练数据)')\n",
    "plt.xlabel('时间',font2)\n",
    "plt.ylabel('股价',font2)\n",
    "plt.legend()\n",
    "plt.show()"
   ]
  },
  {
   "cell_type": "code",
   "execution_count": 19,
   "metadata": {},
   "outputs": [
    {
     "data": {
      "image/png": "[encoded data removed]",
      "text/plain": [
       "<Figure size 720x360 with 1 Axes>"
      ]
     },
     "metadata": {
      "needs_background": "light"
     },
     "output_type": "display_data"
    }
   ],
   "source": [
    "fig = plt.figure(figsize=(10,5))\n",
    "plt.plot(real_stock_price_train[300:m], color = 'red', label = '实际价格')\n",
    "plt.plot(predicted_stock_price_train[300:m], color = 'blue', label = '预测价格')\n",
    "plt.title('中国平安股票价格预测(训练数据)')\n",
    "plt.xlabel('时间',font2)\n",
    "plt.ylabel('股价',font2)\n",
    "plt.legend()\n",
    "plt.show()"
   ]
  },
  {
   "cell_type": "code",
   "execution_count": 15,
   "metadata": {},
   "outputs": [
    {
     "data": {
      "image/png": "[encoded data removed]",
      "text/plain": [
       "<Figure size 432x288 with 1 Axes>"
      ]
     },
     "metadata": {
      "needs_background": "light"
     },
     "output_type": "display_data"
    }
   ],
   "source": [
    "# visualising the results\n",
    "plt.plot(real_stock_price_train[1:731], color = 'red', label = 'Real Stock Price')\n",
    "plt.plot(predicted_stock_price_train+10, color = 'blue', label = 'Predicted Stock Price+10')\n",
    "plt.title('Stock Price Prediction')\n",
    "plt.xlabel('Time')\n",
    "plt.ylabel('Price')\n",
    "plt.legend()\n",
    "plt.show()"
   ]
  },
  {
   "cell_type": "code",
   "execution_count": 16,
   "metadata": {},
   "outputs": [],
   "source": [
    "result = np.concatenate((real_stock_price_train[1:1258],predicted_stock_price_train),axis = 1)"
   ]
  },
  {
   "cell_type": "code",
   "execution_count": 17,
   "metadata": {},
   "outputs": [
    {
     "data": {
      "text/html": [
       "<div>\n",
       "<style scoped>\n",
       "    .dataframe tbody tr th:only-of-type {\n",
       "        vertical-align: middle;\n",
       "    }\n",
       "\n",
       "    .dataframe tbody tr th {\n",
       "        vertical-align: top;\n",
       "    }\n",
       "\n",
       "    .dataframe thead th {\n",
       "        text-align: right;\n",
       "    }\n",
       "</style>\n",
       "<table border=\"1\" class=\"dataframe\">\n",
       "  <thead>\n",
       "    <tr style=\"text-align: right;\">\n",
       "      <th></th>\n",
       "      <th>real_price</th>\n",
       "      <th>predicted_price</th>\n",
       "    </tr>\n",
       "  </thead>\n",
       "  <tbody>\n",
       "    <tr>\n",
       "      <th>0</th>\n",
       "      <td>28.41</td>\n",
       "      <td>30.535713</td>\n",
       "    </tr>\n",
       "    <tr>\n",
       "      <th>1</th>\n",
       "      <td>29.03</td>\n",
       "      <td>28.289095</td>\n",
       "    </tr>\n",
       "    <tr>\n",
       "      <th>2</th>\n",
       "      <td>28.73</td>\n",
       "      <td>28.930899</td>\n",
       "    </tr>\n",
       "    <tr>\n",
       "      <th>3</th>\n",
       "      <td>28.73</td>\n",
       "      <td>28.620024</td>\n",
       "    </tr>\n",
       "    <tr>\n",
       "      <th>4</th>\n",
       "      <td>27.73</td>\n",
       "      <td>28.620024</td>\n",
       "    </tr>\n",
       "  </tbody>\n",
       "</table>\n",
       "</div>"
      ],
      "text/plain": [
       "   real_price  predicted_price\n",
       "0       28.41        30.535713\n",
       "1       29.03        28.289095\n",
       "2       28.73        28.930899\n",
       "3       28.73        28.620024\n",
       "4       27.73        28.620024"
      ]
     },
     "execution_count": 17,
     "metadata": {},
     "output_type": "execute_result"
    }
   ],
   "source": [
    "result = pd.DataFrame(result,columns=['real_price','predicted_price'])\n",
    "result.head()"
   ]
  },
  {
   "cell_type": "code",
   "execution_count": 18,
   "metadata": {},
   "outputs": [],
   "source": [
    "result.to_csv('result.csv')"
   ]
  },
  {
   "cell_type": "code",
   "execution_count": 19,
   "metadata": {},
   "outputs": [
    {
     "data": {
      "text/html": [
       "<div>\n",
       "<style scoped>\n",
       "    .dataframe tbody tr th:only-of-type {\n",
       "        vertical-align: middle;\n",
       "    }\n",
       "\n",
       "    .dataframe tbody tr th {\n",
       "        vertical-align: top;\n",
       "    }\n",
       "\n",
       "    .dataframe thead th {\n",
       "        text-align: right;\n",
       "    }\n",
       "</style>\n",
       "<table border=\"1\" class=\"dataframe\">\n",
       "  <thead>\n",
       "    <tr style=\"text-align: right;\">\n",
       "      <th></th>\n",
       "      <th>date</th>\n",
       "      <th>open</th>\n",
       "      <th>high</th>\n",
       "      <th>low</th>\n",
       "      <th>close</th>\n",
       "      <th>volume</th>\n",
       "    </tr>\n",
       "  </thead>\n",
       "  <tbody>\n",
       "    <tr>\n",
       "      <th>0</th>\n",
       "      <td>2019-01-02</td>\n",
       "      <td>54.19</td>\n",
       "      <td>54.33</td>\n",
       "      <td>53.09</td>\n",
       "      <td>53.33</td>\n",
       "      <td>82554240</td>\n",
       "    </tr>\n",
       "    <tr>\n",
       "      <th>1</th>\n",
       "      <td>2019-01-03</td>\n",
       "      <td>53.30</td>\n",
       "      <td>54.48</td>\n",
       "      <td>53.21</td>\n",
       "      <td>53.83</td>\n",
       "      <td>69271120</td>\n",
       "    </tr>\n",
       "    <tr>\n",
       "      <th>2</th>\n",
       "      <td>2019-01-04</td>\n",
       "      <td>53.43</td>\n",
       "      <td>55.15</td>\n",
       "      <td>53.38</td>\n",
       "      <td>54.74</td>\n",
       "      <td>112985584</td>\n",
       "    </tr>\n",
       "    <tr>\n",
       "      <th>3</th>\n",
       "      <td>2019-01-07</td>\n",
       "      <td>55.24</td>\n",
       "      <td>55.32</td>\n",
       "      <td>54.05</td>\n",
       "      <td>54.45</td>\n",
       "      <td>76593008</td>\n",
       "    </tr>\n",
       "    <tr>\n",
       "      <th>4</th>\n",
       "      <td>2019-01-08</td>\n",
       "      <td>54.20</td>\n",
       "      <td>54.24</td>\n",
       "      <td>53.35</td>\n",
       "      <td>53.95</td>\n",
       "      <td>55992092</td>\n",
       "    </tr>\n",
       "  </tbody>\n",
       "</table>\n",
       "</div>"
      ],
      "text/plain": [
       "         date   open   high    low  close     volume\n",
       "0  2019-01-02  54.19  54.33  53.09  53.33   82554240\n",
       "1  2019-01-03  53.30  54.48  53.21  53.83   69271120\n",
       "2  2019-01-04  53.43  55.15  53.38  54.74  112985584\n",
       "3  2019-01-07  55.24  55.32  54.05  54.45   76593008\n",
       "4  2019-01-08  54.20  54.24  53.35  53.95   55992092"
      ]
     },
     "execution_count": 19,
     "metadata": {},
     "output_type": "execute_result"
    }
   ],
   "source": [
    "# Part 4 - Making the predictions and visualising the results based on the test data\n",
    "%matplotlib inline\n",
    "# Getting the real stock price of 201\n",
    "test_set = pd.read_csv(\"zgpa_2019.csv\")\n",
    "test_set.head()"
   ]
  },
  {
   "cell_type": "code",
   "execution_count": 20,
   "metadata": {},
   "outputs": [
    {
     "name": "stdout",
     "output_type": "stream",
     "text": [
      "(182, 1)\n"
     ]
    }
   ],
   "source": [
    "real_stock_price = test_set.loc[:,['open']].values\n",
    "print(real_stock_price.shape)"
   ]
  },
  {
   "cell_type": "code",
   "execution_count": 21,
   "metadata": {},
   "outputs": [],
   "source": [
    "# Getting the predicted stock price of 2019\n",
    "m_test = real_stock_price.shape[0]\n",
    "X_test_ori = real_stock_price[0:m_test-1]\n",
    "y_test_ori = real_stock_price[1:m]"
   ]
  },
  {
   "cell_type": "code",
   "execution_count": 22,
   "metadata": {},
   "outputs": [
    {
     "name": "stdout",
     "output_type": "stream",
     "text": [
      "(181, 1) (181, 1)\n"
     ]
    }
   ],
   "source": [
    "print(X_test_ori.shape,y_test_ori.shape)"
   ]
  },
  {
   "cell_type": "code",
   "execution_count": 23,
   "metadata": {},
   "outputs": [],
   "source": [
    "X_test = sc.transform(X_test_ori)\n",
    "X_test = np.reshape(X_test, (m_test-1, 1, 1))\n",
    "predicted_stock_price = regressor.predict(X_test)"
   ]
  },
  {
   "cell_type": "code",
   "execution_count": 24,
   "metadata": {},
   "outputs": [],
   "source": [
    "predicted_stock_price = sc.inverse_transform(predicted_stock_price)"
   ]
  },
  {
   "cell_type": "code",
   "execution_count": 26,
   "metadata": {},
   "outputs": [
    {
     "data": {
      "image/png": "[encoded data removed]",
      "text/plain": [
       "<Figure size 432x288 with 1 Axes>"
      ]
     },
     "metadata": {
      "needs_background": "light"
     },
     "output_type": "display_data"
    }
   ],
   "source": [
    "# Visualising the results\n",
    "plt.plot(y_test_ori, color = 'red', label = '实际价格')\n",
    "plt.plot(predicted_stock_price, color = 'blue', label = '预测价格')\n",
    "plt.title('中国平安股票价格预测（测试数据）')\n",
    "plt.xlabel('时间')\n",
    "plt.ylabel('股价')\n",
    "plt.legend()\n",
    "plt.show()"
   ]
  },
  {
   "cell_type": "code",
   "execution_count": 26,
   "metadata": {},
   "outputs": [],
   "source": [
    "# Part 5 - Evaluating the RNN\n",
    "# Evaluate of the RNN - learning to evaluate regression models\n",
    "# Root Mean Square Error (RMSE)\n",
    "\n",
    "import math\n",
    "from sklearn.metrics import mean_squared_error\n",
    "rmse = math.sqrt(mean_squared_error(y_test_ori, predicted_stock_price))\n"
   ]
  },
  {
   "cell_type": "code",
   "execution_count": null,
   "metadata": {},
   "outputs": [],
   "source": [
    "rmse"
   ]
  },
  {
   "cell_type": "code",
   "execution_count": null,
   "metadata": {},
   "outputs": [],
   "source": [
    "from keras.models import load_model\n",
    "regressor.save('rnn_zgpa_stock_predict.h5')  # creates a HDF5 file 'my_model.h5'"
   ]
  },
  {
   "cell_type": "code",
   "execution_count": null,
   "metadata": {},
   "outputs": [],
   "source": [
    "result = np.concatenate((y_test_ori,predicted_stock_price),axis = 1)"
   ]
  },
  {
   "cell_type": "code",
   "execution_count": null,
   "metadata": {},
   "outputs": [],
   "source": [
    "result = pd.DataFrame(result,columns=['real_price','predicted_price'])\n",
    "result.head()"
   ]
  },
  {
   "cell_type": "code",
   "execution_count": null,
   "metadata": {},
   "outputs": [],
   "source": [
    "result.to_csv('zgpa_predicted.csv')"
   ]
  },
  {
   "cell_type": "markdown",
   "metadata": {},
   "source": [
    "### 股价预测对比\n",
    "\n",
    "![result_comp](images/result_comp.png)"
   ]
  },
  {
   "cell_type": "code",
   "execution_count": null,
   "metadata": {},
   "outputs": [],
   "source": []
  },
  {
   "cell_type": "markdown",
   "metadata": {},
   "source": [
    "### 输出层激活函数未sigmoid/tanh的预测结果\n",
    "\n",
    "![code_update](images/code_update.png)"
   ]
  },
  {
   "cell_type": "markdown",
   "metadata": {},
   "source": [
    "### 输出层激活函数未sigmoid/tanh的预测结果\n",
    "\n",
    "![sigmoid_output](images/sigmoid_output.png)"
   ]
  },
  {
   "cell_type": "code",
   "execution_count": null,
   "metadata": {},
   "outputs": [],
   "source": []
  },
  {
   "cell_type": "code",
   "execution_count": null,
   "metadata": {},
   "outputs": [],
   "source": []
  },
  {
   "cell_type": "markdown",
   "metadata": {},
   "source": [
    "**预测准确率的局限性:** 无法真实反映模型针对各个分类的预测准确度\n",
    "\n",
    "任务：计算并对比预测模型预测准确率、空准确率\n",
    "\n",
    "空准确率：当模型总是预测比例较高的类别，其预测准确率的数值"
   ]
  },
  {
   "cell_type": "markdown",
   "metadata": {},
   "source": [
    "**结论:**\n",
    "\n",
    "  分类准确率可以方便的用于衡量模型的整体预测效果，但无法反应细节信息，具体表现在：\n",
    "- 没有体现数据的**实际分布情况**\n",
    "- 没有体现模型**错误预测的类型**"
   ]
  },
  {
   "cell_type": "markdown",
   "metadata": {},
   "source": [
    "## 混淆矩阵\n",
    "\n",
    "又称为误差矩阵，用于衡量分类算法的准确程度"
   ]
  },
  {
   "cell_type": "markdown",
   "metadata": {},
   "source": [
    "![confusion_matrix](images/06_confusion_matrix.png)"
   ]
  },
  {
   "cell_type": "markdown",
   "metadata": {},
   "source": [
    "**名词解释**\n",
    "\n",
    "- **True Positives (TP):** 预测准确、实际为正样本的数量（实际为1，预测为1）\n",
    "- **True Negatives (TN):** 预测准确、实际为负样本的数量（实际为0，预测为0）\n",
    "- **False Positives (FP):** 预测错误、实际为负样本的数量（实际为0，预测为1）\n",
    "- **False Negatives (FN):** 预测错误、实际为正样本的数量（实际为1，预测为0）"
   ]
  },
  {
   "cell_type": "markdown",
   "metadata": {},
   "source": [
    "![Small confusion matrix](images/09_confusion_matrix_1.png)"
   ]
  },
  {
   "cell_type": "markdown",
   "metadata": {},
   "source": [
    "![Large confusion matrix](images/09_confusion_matrix_2.png)"
   ]
  },
  {
   "cell_type": "markdown",
   "metadata": {},
   "source": [
    "## 混淆矩阵指标"
   ]
  },
  {
   "cell_type": "markdown",
   "metadata": {},
   "source": [
    "**准确率:** 整体样本中，预测正确样本数的比例\n",
    "- Accuracy = (TP + TN)/(TP + TN + FP + FN)"
   ]
  },
  {
   "cell_type": "markdown",
   "metadata": {},
   "source": [
    "**精确率:** 预测结果为正的样本中，预测正确的比例\n",
    "- Precision = TP/(TP + FP)"
   ]
  },
  {
   "cell_type": "markdown",
   "metadata": {},
   "source": [
    "**F1分数:** 综合Precision和Recall的一个判断指标\n",
    "- F1 Score = 2*Precision X Recall/(Precision + Recall)"
   ]
  },
  {
   "cell_type": "markdown",
   "metadata": {},
   "source": [
    "![confusion matrix_metrics](images/09_confusion_matrix_3.png)"
   ]
  },
  {
   "cell_type": "markdown",
   "metadata": {},
   "source": [
    "**结论:**\n",
    "\n",
    "- 分类任务中，相比单一的预测准确率，混淆矩阵提供了**更全面的模型评估信息**\n",
    "- 通过混淆矩阵，我们可以计算出**多样的模型表现衡量指标**，从而更好地选择模型\n",
    "\n",
    "**哪个衡量指标更关键?**\n",
    "\n",
    "- 衡量指标的选择取决于**应用场景**\n",
    "- **垃圾邮件检测** (正样本为 \"垃圾邮件\"): 希望普通邮件（负样本）不要被判断为垃圾邮件（正样本），需要关注**精确率**，希望判断为垃圾邮件的样本都是判断正确的；还需要关注**召回率**，希望所有的垃圾邮件尽可能被判断出来)\n",
    "- **异常交易检测** (正样本为 \"异常交易\"): 希望所有的异常交易都被检测到，即判断为正常的交易中尽可能不存在异常交易，需要关注**特异度**"
   ]
  }
 ],
 "metadata": {
  "kernelspec": {
   "display_name": "Python 3",
   "language": "python",
   "name": "python3"
  },
  "language_info": {
   "codemirror_mode": {
    "name": "ipython",
    "version": 3
   },
   "file_extension": ".py",
   "mimetype": "text/x-python",
   "name": "python",
   "nbconvert_exporter": "python",
   "pygments_lexer": "ipython3",
   "version": "3.6.10"
  }
 },
 "nbformat": 4,
 "nbformat_minor": 1
}
